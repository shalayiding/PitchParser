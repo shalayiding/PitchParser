{
 "cells": [
  {
   "cell_type": "code",
   "execution_count": 1,
   "id": "c37c3062",
   "metadata": {},
   "outputs": [],
   "source": [
    "import os\n",
    "os.environ['CUDA_VISIBLE_DEVICES'] = '9' # Allow only 1 GPU visible to CUDA\n",
    "os.environ['TF_CPP_MIN_LOG_LEVEL'] = '3' # Disable annoying logs\n",
    "\n",
    "import tensorflow as tf\n",
    "from tensorflow.keras import Sequential\n",
    "from tensorflow.keras import datasets, layers, models , losses\n",
    "import matplotlib.pyplot as plt\n",
    "import numpy as np"
   ]
  },
  {
   "cell_type": "code",
   "execution_count": 2,
   "id": "7fd84c9f",
   "metadata": {},
   "outputs": [],
   "source": [
    "DATA_PATH = '/local/sandbox/nsynth-tf'\n",
    "TEST_DATA = DATA_PATH + '/nsynth-test.tfrecord'\n",
    "TRAIN_DATA = DATA_PATH + '/nsynth-train.tfrecord'\n",
    "VALIDATION_DATA = DATA_PATH + '/nsynth-valid.tfrecord'\n",
    "\n",
    "BATCH_SIZE = 100\n",
    "EPOCHS = 5\n",
    "SHUFFLE_BUFFER = 150000\n",
    "#SHUFFLE_BUFFER = 289205"
   ]
  },
  {
   "cell_type": "code",
   "execution_count": 3,
   "id": "718e960a",
   "metadata": {},
   "outputs": [],
   "source": [
    "def parse_data(raw_audio_record):\n",
    "\t# Schema for encoded data\n",
    "\tfeature_description = {\n",
    "\t\t\t# 'note': tf.io.FixedLenFeature([], tf.int64, default_value=0),\n",
    "\t\t\t# 'note_str': tf.io.FixedLenFeature([], tf.string, default_value=''),\n",
    "\t\t\t# 'instrument': tf.io.FixedLenFeature([], tf.int64, default_value=0),\n",
    "\t\t\t# 'instrument_str': tf.io.FixedLenFeature([], tf.string, default_value=''),\n",
    "\t\t\t# 'pitch': tf.io.FixedLenFeature([], tf.int64, default_value=0),\n",
    "\t\t\t# 'velocity': tf.io.FixedLenFeature([], tf.int64,default_value=0),\n",
    "\t\t\t# 'sample_rate': tf.io.FixedLenFeature([], tf.int64, default_value=0),\n",
    "\t\t\t'audio': tf.io.FixedLenSequenceFeature([], tf.float32,  allow_missing=True, default_value=0.0),\n",
    "\t\t\t# 'qualities': tf.io.FixedLenSequenceFeature([], tf.int64, allow_missing=True, default_value=0),\n",
    "\t\t\t# 'qualities_str': tf.io.FixedLenSequenceFeature([], tf.string, allow_missing=True, default_value=''),\n",
    "# \t\t\t'instrument_family': tf.io.FixedLenFeature([], tf.int64, default_value=0),\n",
    "\t\t\t# 'instrument_family_str': tf.ioqui.FixedLenFeature([], tf.string, default_value=''),\n",
    "\t\t\t'instrument_source': tf.io.FixedLenFeature([], tf.int64, default_value=0),\n",
    "\t\t\t# 'instrument_source_str': tf.io.FixedLenFeature([], tf.string, default_value='')     \n",
    "\t}\n",
    "\t# record = tf.io.parse_single_example(raw_audio_record, feature_description)\n",
    "\t# return record['audio'], record['instrument_family']\n",
    "\treturn tf.io.parse_single_example(raw_audio_record, feature_description)"
   ]
  },
  {
   "cell_type": "code",
   "execution_count": 4,
   "id": "ad4744eb",
   "metadata": {},
   "outputs": [],
   "source": [
    "raw_train_data = tf.data.TFRecordDataset(TRAIN_DATA)\n",
    "raw_test_data = tf.data.TFRecordDataset(TEST_DATA)\n",
    "raw_val_data = tf.data.TFRecordDataset(VALIDATION_DATA)\n",
    "\n",
    "# Decode and trim each record to only contain audio and instrument_family attributes\n",
    "train_data = raw_train_data.map(parse_data)\n",
    "test_data = raw_test_data.map(parse_data)\n",
    "val_data = raw_val_data.map(parse_data)\n",
    "\n",
    "# Filter out family #9 (synth lead)\n",
    "# train_data = train_data.filter(lambda x: x['instrument_family'] != 9)\n",
    "# test_data = test_data.filter(lambda x: x['instrument_family'] != 9)\n",
    "# val_data = val_data.filter(lambda x: x['instrument_family'] != 9)\n",
    "\n"
   ]
  },
  {
   "cell_type": "code",
   "execution_count": 5,
   "id": "b2a880da",
   "metadata": {},
   "outputs": [],
   "source": [
    "# Shuffle\n",
    "train_data = train_data.shuffle(buffer_size=SHUFFLE_BUFFER, reshuffle_each_iteration=True)\n",
    "val_data = val_data.shuffle(buffer_size=SHUFFLE_BUFFER, reshuffle_each_iteration=True)\n"
   ]
  },
  {
   "cell_type": "code",
   "execution_count": 6,
   "id": "8db0c7be",
   "metadata": {},
   "outputs": [
    {
     "name": "stdout",
     "output_type": "stream",
     "text": [
      "WARNING:tensorflow:AutoGraph could not transform <function <lambda> at 0x7fdff04327a0> and will run it as-is.\n",
      "Please report this to the TensorFlow team. When filing the bug, set the verbosity to 10 (on Linux, `export AUTOGRAPH_VERBOSITY=10`) and attach the full output.\n",
      "Cause: module 'gast' has no attribute 'Index'\n",
      "To silence this warning, decorate the function with @tf.autograph.experimental.do_not_convert\n",
      "WARNING: AutoGraph could not transform <function <lambda> at 0x7fdff04327a0> and will run it as-is.\n",
      "Please report this to the TensorFlow team. When filing the bug, set the verbosity to 10 (on Linux, `export AUTOGRAPH_VERBOSITY=10`) and attach the full output.\n",
      "Cause: module 'gast' has no attribute 'Index'\n",
      "To silence this warning, decorate the function with @tf.autograph.experimental.do_not_convert\n",
      "WARNING:tensorflow:AutoGraph could not transform <function <lambda> at 0x7fdff040e440> and will run it as-is.\n",
      "Please report this to the TensorFlow team. When filing the bug, set the verbosity to 10 (on Linux, `export AUTOGRAPH_VERBOSITY=10`) and attach the full output.\n",
      "Cause: module 'gast' has no attribute 'Index'\n",
      "To silence this warning, decorate the function with @tf.autograph.experimental.do_not_convert\n",
      "WARNING: AutoGraph could not transform <function <lambda> at 0x7fdff040e440> and will run it as-is.\n",
      "Please report this to the TensorFlow team. When filing the bug, set the verbosity to 10 (on Linux, `export AUTOGRAPH_VERBOSITY=10`) and attach the full output.\n",
      "Cause: module 'gast' has no attribute 'Index'\n",
      "To silence this warning, decorate the function with @tf.autograph.experimental.do_not_convert\n",
      "WARNING:tensorflow:AutoGraph could not transform <function <lambda> at 0x7fdff0432b00> and will run it as-is.\n",
      "Please report this to the TensorFlow team. When filing the bug, set the verbosity to 10 (on Linux, `export AUTOGRAPH_VERBOSITY=10`) and attach the full output.\n",
      "Cause: module 'gast' has no attribute 'Index'\n",
      "To silence this warning, decorate the function with @tf.autograph.experimental.do_not_convert\n",
      "WARNING: AutoGraph could not transform <function <lambda> at 0x7fdff0432b00> and will run it as-is.\n",
      "Please report this to the TensorFlow team. When filing the bug, set the verbosity to 10 (on Linux, `export AUTOGRAPH_VERBOSITY=10`) and attach the full output.\n",
      "Cause: module 'gast' has no attribute 'Index'\n",
      "To silence this warning, decorate the function with @tf.autograph.experimental.do_not_convert\n"
     ]
    }
   ],
   "source": [
    "AUDIO_END = 16000\n",
    "# def ten_to_nine(t):\n",
    "#     if t == 10:\n",
    "#         return tf.constant(9, dtype=tf.int64)\n",
    "#     else:\n",
    "#         return t\n",
    "\n",
    "train_data = train_data.map(\n",
    "    lambda x: (tf.reshape(x['audio'][:AUDIO_END], (16000, 1)),\n",
    "               tf.reshape(x['instrument_source'], (1,))\n",
    "              ))\n",
    "    \n",
    "test_data = test_data.map(\n",
    "    lambda x: (tf.reshape(x['audio'][:AUDIO_END], (16000, 1)),\n",
    "               tf.reshape(x['instrument_source'], (1,))\n",
    "              ))\n",
    "    \n",
    "val_data = val_data.map(\n",
    "    lambda x: (tf.reshape(x['audio'][:AUDIO_END], (16000, 1)),\n",
    "               tf.reshape(x['instrument_source'], (1,))\n",
    "              ))"
   ]
  },
  {
   "cell_type": "code",
   "execution_count": 7,
   "id": "bd469932",
   "metadata": {},
   "outputs": [],
   "source": [
    "# Shuffle training data and prepare it for input\n",
    "# train_data = train_data.shuffle(buffer_size=SHUFFLE_BUFFER, reshuffle_each_iteration=True)\n",
    "# val_data = val_data.shuffle(buffer_size=SHUFFLE_BUFFER, reshuffle_each_iteration=True)\n",
    "\n",
    "# Batch\n",
    "train_data = train_data.batch(BATCH_SIZE).cache().prefetch(BATCH_SIZE)\n",
    "val_data = val_data.batch(BATCH_SIZE).cache().prefetch(BATCH_SIZE)\n",
    "test_data = test_data.batch(BATCH_SIZE).cache().prefetch(BATCH_SIZE)"
   ]
  },
  {
   "cell_type": "code",
   "execution_count": 8,
   "id": "01bbc7a3",
   "metadata": {},
   "outputs": [
    {
     "name": "stdout",
     "output_type": "stream",
     "text": [
      "Model: \"sequential\"\n",
      "_________________________________________________________________\n",
      "Layer (type)                 Output Shape              Param #   \n",
      "=================================================================\n",
      "conv1d (Conv1D)              (None, 15841, 32)         5152      \n",
      "_________________________________________________________________\n",
      "max_pooling1d (MaxPooling1D) (None, 3960, 32)          0         \n",
      "_________________________________________________________________\n",
      "bidirectional (Bidirectional (None, 64)                16640     \n",
      "_________________________________________________________________\n",
      "dropout (Dropout)            (None, 64)                0         \n",
      "_________________________________________________________________\n",
      "flatten (Flatten)            (None, 64)                0         \n",
      "_________________________________________________________________\n",
      "dense (Dense)                (None, 256)               16640     \n",
      "_________________________________________________________________\n",
      "dense_1 (Dense)              (None, 3)                 771       \n",
      "=================================================================\n",
      "Total params: 39,203\n",
      "Trainable params: 39,203\n",
      "Non-trainable params: 0\n",
      "_________________________________________________________________\n",
      "None\n"
     ]
    }
   ],
   "source": [
    "# Build the model\n",
    "model = Sequential()\n",
    "\n",
    "# model.add(layers.Conv2D(32, (2, 2), padding='same', activation='relu', input_shape=(100, 160, 1)))\n",
    "# model.add(layers.MaxPooling2D(pool_size=(2, 2)))\n",
    "\n",
    "model.add(layers.Conv1D(32, kernel_size=160, activation='relu', input_shape=(16000, 1)))\n",
    "model.add(layers.MaxPool1D(pool_size=4, strides=None, padding='valid'))\n",
    "\n",
    "model.add(layers.Bidirectional(layers.LSTM(32)))\n",
    "model.add(layers.Dropout(0.25))\n",
    "\n",
    "\n",
    "# model.add(layers.Dropout(0.25))\n",
    "# model.add(layers.Conv2D(32, (3, 3),activation='relu'))\n",
    "# model.add(layers.MaxPooling2D(pool_size=(2, 2)))\n",
    "# model.add(layers.Dropout(0.5))\n",
    "# model.add(layers.Conv2D(128, (3, 3), padding='same',activation ='relu'))\n",
    "# model.add(layers.MaxPooling2D(pool_size=(2, 2)))\n",
    "# model.add(layers.Dropout(0.5))\n",
    "# model.add(layers.Flatten())\n",
    "# model.add(layers.Dense(256,activation='relu'))\n",
    "# model.add(layers.Dropout(0.5))\n",
    "model.add(layers.Flatten())\n",
    "model.add(layers.Dense(256, activation='relu'))\n",
    "model.add(layers.Dense(3, activation='softmax'))\n",
    "\n",
    "print(model.summary())\n",
    "\n",
    "model.compile(\n",
    "    optimizer=tf.keras.optimizers.Adam(learning_rate=0.001),\n",
    "    loss=tf.keras.losses.SparseCategoricalCrossentropy(),\n",
    "    metrics=['accuracy'])\n"
   ]
  },
  {
   "cell_type": "code",
   "execution_count": null,
   "id": "68f64b05",
   "metadata": {
    "scrolled": true
   },
   "outputs": [
    {
     "name": "stdout",
     "output_type": "stream",
     "text": [
      "Epoch 1/5\n",
      "   1243/Unknown - 542s 342ms/step - loss: 0.9503 - accuracy: 0.5250"
     ]
    }
   ],
   "source": [
    "# Training\n",
    "history = model.fit(train_data, validation_data=val_data, epochs=5)\n",
    "#history = model.fit(val_data, epochs=1)"
   ]
  },
  {
   "cell_type": "code",
   "execution_count": null,
   "id": "af2ebd4e",
   "metadata": {},
   "outputs": [],
   "source": [
    "# Testing\n",
    "test_loss, test_acc = model.evaluate(test_data, verbose=2)\n",
    "print(test_acc)"
   ]
  },
  {
   "cell_type": "code",
   "execution_count": null,
   "id": "cb0b359f",
   "metadata": {},
   "outputs": [],
   "source": [
    "model.save('project2_BLSTM_network.h5')\n",
    "print('project2_BLSTM_network.h5 Model Saved!')"
   ]
  },
  {
   "cell_type": "code",
   "execution_count": 12,
   "id": "257d603e",
   "metadata": {},
   "outputs": [
    {
     "name": "stdout",
     "output_type": "stream",
     "text": [
      "[0.4435080289840698]\n"
     ]
    },
    {
     "data": {
      "image/png": "[encoded data removed]",
      "text/plain": [
       "<Figure size 1080x1080 with 2 Axes>"
      ]
     },
     "metadata": {
      "needs_background": "light"
     },
     "output_type": "display_data"
    }
   ],
   "source": [
    "print(history.history['accuracy'])\n",
    "\n",
    "fig, axs = plt.subplots(2, 1, figsize=(15,15))  \n",
    "axs[0].plot(history.history['loss']) \n",
    "axs[0].plot(history.history['val_loss']) \n",
    "axs[0].title.set_text('Training Loss vs Validation Loss') \n",
    "axs[0].legend(['Train', 'Val'])  \n",
    "\n",
    "axs[1].plot(history.history['accuracy']) \n",
    "axs[1].plot(history.history['val_accuracy']) \n",
    "axs[1].title.set_text('Training Accuracy vs Validation Accuracy') \n",
    "axs[1].legend(['Train', 'Val'])\n",
    "plt.savefig('project2_simple_network.png')"
   ]
  },
  {
   "cell_type": "code",
   "execution_count": null,
   "id": "6523bf49",
   "metadata": {},
   "outputs": [],
   "source": []
  }
 ],
 "metadata": {
  "kernelspec": {
   "display_name": "Python 3",
   "language": "python",
   "name": "python3"
  },
  "language_info": {
   "codemirror_mode": {
    "name": "ipython",
    "version": 3
   },
   "file_extension": ".py",
   "mimetype": "text/x-python",
   "name": "python",
   "nbconvert_exporter": "python",
   "pygments_lexer": "ipython3",
   "version": "3.7.11"
  }
 },
 "nbformat": 4,
 "nbformat_minor": 5
}
