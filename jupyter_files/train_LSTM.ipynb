{
 "cells": [
  {
   "cell_type": "code",
   "execution_count": 1,
   "id": "c37c3062",
   "metadata": {},
   "outputs": [
    {
     "name": "stderr",
     "output_type": "stream",
     "text": [
      "2022-05-01 22:27:34.475143: I tensorflow/stream_executor/platform/default/dso_loader.cc:49] Successfully opened dynamic library libcudart.so.10.1\n"
     ]
    }
   ],
   "source": [
    "import os\n",
    "os.environ['CUDA_VISIBLE_DEVICES'] = '9' # Allow only 1 GPU visible to CUDA\n",
    "# os.environ['TF_CPP_MIN_LOG_LEVEL'] = '3' # Disable annoying logs\n",
    "\n",
    "import tensorflow as tf\n",
    "from tensorflow.keras import Sequential\n",
    "from tensorflow.keras import datasets, layers, models , losses\n",
    "import matplotlib.pyplot as plt\n",
    "import numpy as np\n",
    "\n",
    "#gpus = tf.config.list_logical_devices('GPU')\n",
    "\n",
    "# no_six = []\n",
    "# for gpu in gpus:\n",
    "#     if gpu.name == '/device:GPU:6':\n",
    "#         continue\n",
    "#     no_six.append(gpu)\n",
    "# for gpu in gpus:\n",
    "#     print(gpu)\n",
    "    \n",
    "#strategy = tf.distribute.MirroredStrategy(gpus)"
   ]
  },
  {
   "cell_type": "code",
   "execution_count": 2,
   "id": "7fd84c9f",
   "metadata": {},
   "outputs": [],
   "source": [
    "DATA_PATH = '/local/sandbox/nsynth-tf'\n",
    "TEST_DATA = DATA_PATH + '/nsynth-test.tfrecord'\n",
    "TRAIN_DATA = DATA_PATH + '/nsynth-train.tfrecord'\n",
    "VALIDATION_DATA = DATA_PATH + '/nsynth-valid.tfrecord'\n",
    "\n",
    "BATCH_SIZE = 100\n",
    "EPOCHS = 5\n",
    "SHUFFLE_BUFFER = 150000\n",
    "#SHUFFLE_BUFFER = 289205"
   ]
  },
  {
   "cell_type": "code",
   "execution_count": 3,
   "id": "718e960a",
   "metadata": {},
   "outputs": [],
   "source": [
    "def parse_data(raw_audio_record):\n",
    "\t# Schema for encoded data\n",
    "\tfeature_description = {\n",
    "\t\t\t# 'note': tf.io.FixedLenFeature([], tf.int64, default_value=0),\n",
    "\t\t\t# 'note_str': tf.io.FixedLenFeature([], tf.string, default_value=''),\n",
    "\t\t\t# 'instrument': tf.io.FixedLenFeature([], tf.int64, default_value=0),\n",
    "\t\t\t# 'instrument_str': tf.io.FixedLenFeature([], tf.string, default_value=''),\n",
    "\t\t\t# 'pitch': tf.io.FixedLenFeature([], tf.int64, default_value=0),\n",
    "\t\t\t# 'velocity': tf.io.FixedLenFeature([], tf.int64,default_value=0),\n",
    "\t\t\t# 'sample_rate': tf.io.FixedLenFeature([], tf.int64, default_value=0),\n",
    "\t\t\t'audio': tf.io.FixedLenSequenceFeature([], tf.float32,  allow_missing=True, default_value=0.0),\n",
    "\t\t\t# 'qualities': tf.io.FixedLenSequenceFeature([], tf.int64, allow_missing=True, default_value=0),\n",
    "\t\t\t# 'qualities_str': tf.io.FixedLenSequenceFeature([], tf.string, allow_missing=True, default_value=''),\n",
    "\t\t\t'instrument_family': tf.io.FixedLenFeature([], tf.int64, default_value=0),\n",
    "\t\t\t# 'instrument_family_str': tf.ioqui.FixedLenFeature([], tf.string, default_value=''),\n",
    "\t\t\t# 'instrument_source': tf.io.FixedLenFeature([], tf.int64, default_value=0),\n",
    "\t\t\t# 'instrument_source_str': tf.io.FixedLenFeature([], tf.string, default_value='')     \n",
    "\t}\n",
    "\t# record = tf.io.parse_single_example(raw_audio_record, feature_description)\n",
    "\t# return record['audio'], record['instrument_family']\n",
    "\treturn tf.io.parse_single_example(raw_audio_record, feature_description)"
   ]
  },
  {
   "cell_type": "code",
   "execution_count": 4,
   "id": "ad4744eb",
   "metadata": {},
   "outputs": [
    {
     "name": "stdout",
     "output_type": "stream",
     "text": [
      "WARNING:tensorflow:AutoGraph could not transform <function <lambda> at 0x7f8db020f0e0> and will run it as-is.\n",
      "Please report this to the TensorFlow team. When filing the bug, set the verbosity to 10 (on Linux, `export AUTOGRAPH_VERBOSITY=10`) and attach the full output.\n",
      "Cause: module 'gast' has no attribute 'Index'\n",
      "To silence this warning, decorate the function with @tf.autograph.experimental.do_not_convert\n",
      "WARNING: AutoGraph could not transform <function <lambda> at 0x7f8db020f0e0> and will run it as-is.\n",
      "Please report this to the TensorFlow team. When filing the bug, set the verbosity to 10 (on Linux, `export AUTOGRAPH_VERBOSITY=10`) and attach the full output.\n",
      "Cause: module 'gast' has no attribute 'Index'\n",
      "To silence this warning, decorate the function with @tf.autograph.experimental.do_not_convert\n",
      "WARNING:tensorflow:AutoGraph could not transform <function <lambda> at 0x7f8db020f830> and will run it as-is.\n",
      "Please report this to the TensorFlow team. When filing the bug, set the verbosity to 10 (on Linux, `export AUTOGRAPH_VERBOSITY=10`) and attach the full output.\n",
      "Cause: module 'gast' has no attribute 'Index'\n",
      "To silence this warning, decorate the function with @tf.autograph.experimental.do_not_convert\n",
      "WARNING: AutoGraph could not transform <function <lambda> at 0x7f8db020f830> and will run it as-is.\n",
      "Please report this to the TensorFlow team. When filing the bug, set the verbosity to 10 (on Linux, `export AUTOGRAPH_VERBOSITY=10`) and attach the full output.\n",
      "Cause: module 'gast' has no attribute 'Index'\n",
      "To silence this warning, decorate the function with @tf.autograph.experimental.do_not_convert\n",
      "WARNING:tensorflow:AutoGraph could not transform <function <lambda> at 0x7f8db020f9e0> and will run it as-is.\n",
      "Please report this to the TensorFlow team. When filing the bug, set the verbosity to 10 (on Linux, `export AUTOGRAPH_VERBOSITY=10`) and attach the full output.\n",
      "Cause: module 'gast' has no attribute 'Index'\n",
      "To silence this warning, decorate the function with @tf.autograph.experimental.do_not_convert\n",
      "WARNING: AutoGraph could not transform <function <lambda> at 0x7f8db020f9e0> and will run it as-is.\n",
      "Please report this to the TensorFlow team. When filing the bug, set the verbosity to 10 (on Linux, `export AUTOGRAPH_VERBOSITY=10`) and attach the full output.\n",
      "Cause: module 'gast' has no attribute 'Index'\n",
      "To silence this warning, decorate the function with @tf.autograph.experimental.do_not_convert\n"
     ]
    },
    {
     "name": "stderr",
     "output_type": "stream",
     "text": [
      "2022-05-01 22:27:39.578020: I tensorflow/compiler/jit/xla_cpu_device.cc:41] Not creating XLA devices, tf_xla_enable_xla_devices not set\n",
      "2022-05-01 22:27:39.579919: I tensorflow/stream_executor/platform/default/dso_loader.cc:49] Successfully opened dynamic library libcuda.so.1\n",
      "2022-05-01 22:27:39.676083: I tensorflow/core/common_runtime/gpu/gpu_device.cc:1720] Found device 0 with properties: \n",
      "pciBusID: 0000:0f:00.0 name: Tesla P4 computeCapability: 6.1\n",
      "coreClock: 1.1135GHz coreCount: 20 deviceMemorySize: 7.43GiB deviceMemoryBandwidth: 178.99GiB/s\n",
      "2022-05-01 22:27:39.676130: I tensorflow/stream_executor/platform/default/dso_loader.cc:49] Successfully opened dynamic library libcudart.so.10.1\n",
      "2022-05-01 22:27:39.680841: I tensorflow/stream_executor/platform/default/dso_loader.cc:49] Successfully opened dynamic library libcublas.so.10\n",
      "2022-05-01 22:27:39.680898: I tensorflow/stream_executor/platform/default/dso_loader.cc:49] Successfully opened dynamic library libcublasLt.so.10\n",
      "2022-05-01 22:27:39.684042: I tensorflow/stream_executor/platform/default/dso_loader.cc:49] Successfully opened dynamic library libcufft.so.10\n",
      "2022-05-01 22:27:39.684791: I tensorflow/stream_executor/platform/default/dso_loader.cc:49] Successfully opened dynamic library libcurand.so.10\n",
      "2022-05-01 22:27:39.688056: I tensorflow/stream_executor/platform/default/dso_loader.cc:49] Successfully opened dynamic library libcusolver.so.10\n",
      "2022-05-01 22:27:39.690466: I tensorflow/stream_executor/platform/default/dso_loader.cc:49] Successfully opened dynamic library libcusparse.so.10\n",
      "2022-05-01 22:27:39.697750: I tensorflow/stream_executor/platform/default/dso_loader.cc:49] Successfully opened dynamic library libcudnn.so.7\n",
      "2022-05-01 22:27:39.700073: I tensorflow/core/common_runtime/gpu/gpu_device.cc:1862] Adding visible gpu devices: 0\n",
      "2022-05-01 22:27:39.701224: I tensorflow/core/platform/cpu_feature_guard.cc:142] This TensorFlow binary is optimized with oneAPI Deep Neural Network Library (oneDNN) to use the following CPU instructions in performance-critical operations:  SSE4.1 SSE4.2 AVX AVX2 FMA\n",
      "To enable them in other operations, rebuild TensorFlow with the appropriate compiler flags.\n",
      "2022-05-01 22:27:39.705689: I tensorflow/core/common_runtime/gpu/gpu_device.cc:1720] Found device 0 with properties: \n",
      "pciBusID: 0000:0f:00.0 name: Tesla P4 computeCapability: 6.1\n",
      "coreClock: 1.1135GHz coreCount: 20 deviceMemorySize: 7.43GiB deviceMemoryBandwidth: 178.99GiB/s\n",
      "2022-05-01 22:27:39.705744: I tensorflow/stream_executor/platform/default/dso_loader.cc:49] Successfully opened dynamic library libcudart.so.10.1\n",
      "2022-05-01 22:27:39.705780: I tensorflow/stream_executor/platform/default/dso_loader.cc:49] Successfully opened dynamic library libcublas.so.10\n",
      "2022-05-01 22:27:39.705798: I tensorflow/stream_executor/platform/default/dso_loader.cc:49] Successfully opened dynamic library libcublasLt.so.10\n",
      "2022-05-01 22:27:39.705815: I tensorflow/stream_executor/platform/default/dso_loader.cc:49] Successfully opened dynamic library libcufft.so.10\n",
      "2022-05-01 22:27:39.705832: I tensorflow/stream_executor/platform/default/dso_loader.cc:49] Successfully opened dynamic library libcurand.so.10\n",
      "2022-05-01 22:27:39.705849: I tensorflow/stream_executor/platform/default/dso_loader.cc:49] Successfully opened dynamic library libcusolver.so.10\n",
      "2022-05-01 22:27:39.705866: I tensorflow/stream_executor/platform/default/dso_loader.cc:49] Successfully opened dynamic library libcusparse.so.10\n",
      "2022-05-01 22:27:39.705884: I tensorflow/stream_executor/platform/default/dso_loader.cc:49] Successfully opened dynamic library libcudnn.so.7\n",
      "2022-05-01 22:27:39.707656: I tensorflow/core/common_runtime/gpu/gpu_device.cc:1862] Adding visible gpu devices: 0\n",
      "2022-05-01 22:27:39.707730: I tensorflow/stream_executor/platform/default/dso_loader.cc:49] Successfully opened dynamic library libcudart.so.10.1\n",
      "2022-05-01 22:27:40.710337: I tensorflow/core/common_runtime/gpu/gpu_device.cc:1261] Device interconnect StreamExecutor with strength 1 edge matrix:\n",
      "2022-05-01 22:27:40.710410: I tensorflow/core/common_runtime/gpu/gpu_device.cc:1267]      0 \n",
      "2022-05-01 22:27:40.710427: I tensorflow/core/common_runtime/gpu/gpu_device.cc:1280] 0:   N \n",
      "2022-05-01 22:27:40.713092: I tensorflow/core/common_runtime/gpu/gpu_device.cc:1406] Created TensorFlow device (/job:localhost/replica:0/task:0/device:GPU:0 with 6949 MB memory) -> physical GPU (device: 0, name: Tesla P4, pci bus id: 0000:0f:00.0, compute capability: 6.1)\n",
      "2022-05-01 22:27:40.715216: I tensorflow/compiler/jit/xla_gpu_device.cc:99] Not creating XLA devices, tf_xla_enable_xla_devices not set\n"
     ]
    }
   ],
   "source": [
    "raw_train_data = tf.data.TFRecordDataset(TRAIN_DATA)\n",
    "raw_test_data = tf.data.TFRecordDataset(TEST_DATA)\n",
    "raw_val_data = tf.data.TFRecordDataset(VALIDATION_DATA)\n",
    "\n",
    "# Decode and trim each record to only contain audio and instrument_family attributes\n",
    "train_data = raw_train_data.map(parse_data)\n",
    "test_data = raw_test_data.map(parse_data)\n",
    "val_data = raw_val_data.map(parse_data)\n",
    "\n",
    "# Filter out family #9 (synth lead)\n",
    "train_data = train_data.filter(lambda x: x['instrument_family'] != 9)\n",
    "test_data = test_data.filter(lambda x: x['instrument_family'] != 9)\n",
    "val_data = val_data.filter(lambda x: x['instrument_family'] != 9)\n",
    "\n"
   ]
  },
  {
   "cell_type": "code",
   "execution_count": 5,
   "id": "b2a880da",
   "metadata": {},
   "outputs": [],
   "source": [
    "# Shuffle\n",
    "train_data = train_data.shuffle(buffer_size=SHUFFLE_BUFFER, reshuffle_each_iteration=True)\n",
    "val_data = val_data.shuffle(buffer_size=SHUFFLE_BUFFER, reshuffle_each_iteration=True)\n"
   ]
  },
  {
   "cell_type": "code",
   "execution_count": 6,
   "id": "8db0c7be",
   "metadata": {},
   "outputs": [
    {
     "name": "stdout",
     "output_type": "stream",
     "text": [
      "WARNING:tensorflow:AutoGraph could not transform <function <lambda> at 0x7f8db0164b00> and will run it as-is.\n",
      "Please report this to the TensorFlow team. When filing the bug, set the verbosity to 10 (on Linux, `export AUTOGRAPH_VERBOSITY=10`) and attach the full output.\n",
      "Cause: module 'gast' has no attribute 'Index'\n",
      "To silence this warning, decorate the function with @tf.autograph.experimental.do_not_convert\n",
      "WARNING: AutoGraph could not transform <function <lambda> at 0x7f8db0164b00> and will run it as-is.\n",
      "Please report this to the TensorFlow team. When filing the bug, set the verbosity to 10 (on Linux, `export AUTOGRAPH_VERBOSITY=10`) and attach the full output.\n",
      "Cause: module 'gast' has no attribute 'Index'\n",
      "To silence this warning, decorate the function with @tf.autograph.experimental.do_not_convert\n",
      "WARNING:tensorflow:AutoGraph could not transform <function <lambda> at 0x7f8db0164b90> and will run it as-is.\n",
      "Please report this to the TensorFlow team. When filing the bug, set the verbosity to 10 (on Linux, `export AUTOGRAPH_VERBOSITY=10`) and attach the full output.\n",
      "Cause: module 'gast' has no attribute 'Index'\n",
      "To silence this warning, decorate the function with @tf.autograph.experimental.do_not_convert\n",
      "WARNING: AutoGraph could not transform <function <lambda> at 0x7f8db0164b90> and will run it as-is.\n",
      "Please report this to the TensorFlow team. When filing the bug, set the verbosity to 10 (on Linux, `export AUTOGRAPH_VERBOSITY=10`) and attach the full output.\n",
      "Cause: module 'gast' has no attribute 'Index'\n",
      "To silence this warning, decorate the function with @tf.autograph.experimental.do_not_convert\n",
      "WARNING:tensorflow:AutoGraph could not transform <function <lambda> at 0x7f8db017a5f0> and will run it as-is.\n",
      "Please report this to the TensorFlow team. When filing the bug, set the verbosity to 10 (on Linux, `export AUTOGRAPH_VERBOSITY=10`) and attach the full output.\n",
      "Cause: module 'gast' has no attribute 'Index'\n",
      "To silence this warning, decorate the function with @tf.autograph.experimental.do_not_convert\n",
      "WARNING: AutoGraph could not transform <function <lambda> at 0x7f8db017a5f0> and will run it as-is.\n",
      "Please report this to the TensorFlow team. When filing the bug, set the verbosity to 10 (on Linux, `export AUTOGRAPH_VERBOSITY=10`) and attach the full output.\n",
      "Cause: module 'gast' has no attribute 'Index'\n",
      "To silence this warning, decorate the function with @tf.autograph.experimental.do_not_convert\n"
     ]
    }
   ],
   "source": [
    "AUDIO_END = 16000\n",
    "def ten_to_nine(t):\n",
    "    if t == 10:\n",
    "        return tf.constant(9, dtype=tf.int64)\n",
    "    else:\n",
    "        return t\n",
    "\n",
    "train_data = train_data.map(\n",
    "    lambda x: (tf.reshape(x['audio'][:AUDIO_END], (16000, 1)),\n",
    "               tf.reshape(tf.py_function(func=ten_to_nine,inp=[x['instrument_family']], Tout=tf.int64), (1,))\n",
    "              ))\n",
    "    \n",
    "test_data = test_data.map(\n",
    "    lambda x: (tf.reshape(x['audio'][:AUDIO_END], (16000, 1)),\n",
    "               tf.reshape(tf.py_function(func=ten_to_nine,inp=[x['instrument_family']], Tout=tf.int64), (1,))\n",
    "              ))\n",
    "    \n",
    "val_data = val_data.map(\n",
    "    lambda x: (tf.reshape(x['audio'][:AUDIO_END], (16000, 1)),\n",
    "               tf.reshape(tf.py_function(func=ten_to_nine,inp=[x['instrument_family']], Tout=tf.int64), (1,))\n",
    "              ))\n"
   ]
  },
  {
   "cell_type": "code",
   "execution_count": 7,
   "id": "bd469932",
   "metadata": {},
   "outputs": [],
   "source": [
    "# Shuffle training data and prepare it for input\n",
    "# train_data = train_data.shuffle(buffer_size=SHUFFLE_BUFFER, reshuffle_each_iteration=True)\n",
    "# val_data = val_data.shuffle(buffer_size=SHUFFLE_BUFFER, reshuffle_each_iteration=True)\n",
    "\n",
    "# Batch\n",
    "train_data = train_data.batch(BATCH_SIZE).cache().prefetch(BATCH_SIZE)\n",
    "val_data = val_data.batch(BATCH_SIZE).cache().prefetch(BATCH_SIZE)\n",
    "test_data = test_data.batch(BATCH_SIZE).cache().prefetch(BATCH_SIZE)"
   ]
  },
  {
   "cell_type": "code",
   "execution_count": null,
   "id": "28a7857b",
   "metadata": {},
   "outputs": [],
   "source": []
  },
  {
   "cell_type": "code",
   "execution_count": 8,
   "id": "01bbc7a3",
   "metadata": {},
   "outputs": [
    {
     "name": "stdout",
     "output_type": "stream",
     "text": [
      "Model: \"sequential\"\n",
      "_________________________________________________________________\n",
      "Layer (type)                 Output Shape              Param #   \n",
      "=================================================================\n",
      "conv1d (Conv1D)              (None, 15841, 32)         5152      \n",
      "_________________________________________________________________\n",
      "max_pooling1d (MaxPooling1D) (None, 3960, 32)          0         \n",
      "_________________________________________________________________\n",
      "lstm (LSTM)                  (None, 64)                24832     \n",
      "_________________________________________________________________\n",
      "dropout (Dropout)            (None, 64)                0         \n",
      "_________________________________________________________________\n",
      "flatten (Flatten)            (None, 64)                0         \n",
      "_________________________________________________________________\n",
      "dense (Dense)                (None, 512)               33280     \n",
      "_________________________________________________________________\n",
      "dense_1 (Dense)              (None, 10)                5130      \n",
      "=================================================================\n",
      "Total params: 68,394\n",
      "Trainable params: 68,394\n",
      "Non-trainable params: 0\n",
      "_________________________________________________________________\n",
      "None\n",
      "Epoch 1/5\n"
     ]
    },
    {
     "name": "stderr",
     "output_type": "stream",
     "text": [
      "2022-05-01 22:27:43.876800: I tensorflow/compiler/mlir/mlir_graph_optimization_pass.cc:116] None of the MLIR optimization passes are enabled (registered 2)\n",
      "2022-05-01 22:27:43.895693: I tensorflow/core/platform/profile_utils/cpu_utils.cc:112] CPU Frequency: 2199925000 Hz\n",
      "2022-05-01 22:27:45.828600: I tensorflow/stream_executor/platform/default/dso_loader.cc:49] Successfully opened dynamic library libcublas.so.10\n",
      "2022-05-01 22:27:55.821447: I tensorflow/core/kernels/data/shuffle_dataset_op.cc:177] Filling up shuffle buffer (this may take a while): 16578 of 150000\n",
      "2022-05-01 22:28:05.821465: I tensorflow/core/kernels/data/shuffle_dataset_op.cc:177] Filling up shuffle buffer (this may take a while): 32619 of 150000\n",
      "2022-05-01 22:28:15.823992: I tensorflow/core/kernels/data/shuffle_dataset_op.cc:177] Filling up shuffle buffer (this may take a while): 48903 of 150000\n",
      "2022-05-01 22:28:25.821387: I tensorflow/core/kernels/data/shuffle_dataset_op.cc:177] Filling up shuffle buffer (this may take a while): 64090 of 150000\n",
      "2022-05-01 22:28:35.821454: I tensorflow/core/kernels/data/shuffle_dataset_op.cc:177] Filling up shuffle buffer (this may take a while): 80699 of 150000\n",
      "2022-05-01 22:28:45.821286: I tensorflow/core/kernels/data/shuffle_dataset_op.cc:177] Filling up shuffle buffer (this may take a while): 96641 of 150000\n",
      "2022-05-01 22:28:55.821370: I tensorflow/core/kernels/data/shuffle_dataset_op.cc:177] Filling up shuffle buffer (this may take a while): 113286 of 150000\n",
      "2022-05-01 22:29:05.915760: I tensorflow/core/kernels/data/shuffle_dataset_op.cc:177] Filling up shuffle buffer (this may take a while): 128000 of 150000\n",
      "2022-05-01 22:29:15.821119: I tensorflow/core/kernels/data/shuffle_dataset_op.cc:177] Filling up shuffle buffer (this may take a while): 144411 of 150000\n",
      "2022-05-01 22:29:19.575823: I tensorflow/core/kernels/data/shuffle_dataset_op.cc:230] Shuffle buffer filled.\n",
      "2022-05-01 22:29:19.741119: I tensorflow/stream_executor/platform/default/dso_loader.cc:49] Successfully opened dynamic library libcudnn.so.7\n",
      "2022-05-01 22:29:22.106182: W tensorflow/stream_executor/gpu/asm_compiler.cc:63] Running ptxas --version returned 256\n",
      "2022-05-01 22:29:23.510894: W tensorflow/stream_executor/gpu/redzone_allocator.cc:314] Internal: ptxas exited with non-zero error code 256, output: \n",
      "Relying on driver to perform ptx compilation. \n",
      "Modify $PATH to customize ptxas location.\n",
      "This message will be only logged once.\n"
     ]
    },
    {
     "name": "stdout",
     "output_type": "stream",
     "text": [
      "   2838/Unknown - 862s 262ms/step - loss: 1.7425 - accuracy: 0.3481"
     ]
    },
    {
     "name": "stderr",
     "output_type": "stream",
     "text": [
      "2022-05-01 22:42:18.429961: I tensorflow/core/kernels/data/shuffle_dataset_op.cc:177] Filling up shuffle buffer (this may take a while): 9135 of 150000\n",
      "2022-05-01 22:42:22.262240: I tensorflow/core/kernels/data/shuffle_dataset_op.cc:230] Shuffle buffer filled.\n"
     ]
    },
    {
     "name": "stdout",
     "output_type": "stream",
     "text": [
      "2838/2838 [==============================] - 908s 278ms/step - loss: 1.7425 - accuracy: 0.3481 - val_loss: 1.8048 - val_accuracy: 0.3362\n",
      "Epoch 2/5\n",
      "2838/2838 [==============================] - 699s 246ms/step - loss: 1.6099 - accuracy: 0.3865 - val_loss: 1.7501 - val_accuracy: 0.3502\n",
      "Epoch 3/5\n",
      "2838/2838 [==============================] - 698s 246ms/step - loss: 1.5534 - accuracy: 0.4040 - val_loss: 1.7282 - val_accuracy: 0.3553\n",
      "Epoch 4/5\n",
      "2838/2838 [==============================] - 697s 246ms/step - loss: 1.5369 - accuracy: 0.4104 - val_loss: 1.7045 - val_accuracy: 0.3695\n",
      "Epoch 5/5\n",
      "2838/2838 [==============================] - 697s 246ms/step - loss: 1.4788 - accuracy: 0.4289 - val_loss: 1.7008 - val_accuracy: 0.3819\n"
     ]
    }
   ],
   "source": [
    "# Build the model\n",
    "model = Sequential()\n",
    "\n",
    "# model.add(layers.Conv2D(32, (2, 2), padding='same', activation='relu', input_shape=(100, 160, 1)))\n",
    "# model.add(layers.MaxPooling2D(pool_size=(2, 2)))\n",
    "\n",
    "model.add(layers.Conv1D(32, kernel_size=160, activation='relu', input_shape=(16000, 1)))\n",
    "model.add(layers.MaxPool1D(pool_size=4, strides=None, padding='valid'))\n",
    "\n",
    "model.add(layers.LSTM(64))\n",
    "model.add(layers.Dropout(0.25))\n",
    "\n",
    "# model.add(layers.Dropout(0.25))\n",
    "# model.add(layers.Conv2D(32, (3, 3),activation='relu'))\n",
    "# model.add(layers.MaxPooling2D(pool_size=(2, 2)))\n",
    "# model.add(layers.Dropout(0.5))\n",
    "# model.add(layers.Conv2D(128, (3, 3), padding='same',activation ='relu'))\n",
    "# model.add(layers.MaxPooling2D(pool_size=(2, 2)))\n",
    "# model.add(layers.Dropout(0.5))\n",
    "# model.add(layers.Flatten())\n",
    "# model.add(layers.Dense(256,activation='relu'))\n",
    "# model.add(layers.Dropout(0.5))\n",
    "model.add(layers.Flatten())\n",
    "model.add(layers.Dense(512, activation='relu'))\n",
    "model.add(layers.Dense(10, activation='softmax'))\n",
    "\n",
    "print(model.summary())\n",
    "\n",
    "model.compile(\n",
    "    optimizer=tf.keras.optimizers.Adam(learning_rate=0.001),\n",
    "    loss=tf.keras.losses.SparseCategoricalCrossentropy(),\n",
    "    metrics=['accuracy'])\n",
    "\n",
    "history = model.fit(train_data, validation_data=val_data, epochs=5)\n"
   ]
  },
  {
   "cell_type": "code",
   "execution_count": 9,
   "id": "68f64b05",
   "metadata": {},
   "outputs": [],
   "source": [
    "    # Training\n",
    "#     history = model.fit(train_data, validation_data=val_data, epochs=5)\n",
    "    #history = model.fit(val_data, epochs=5)"
   ]
  },
  {
   "cell_type": "code",
   "execution_count": 11,
   "id": "af2ebd4e",
   "metadata": {},
   "outputs": [
    {
     "name": "stdout",
     "output_type": "stream",
     "text": [
      "41/41 - 4s - loss: 1.6925 - accuracy: 0.3904\n",
      "0.390380859375\n"
     ]
    }
   ],
   "source": [
    "# Testing\n",
    "test_loss, test_acc = model.evaluate(test_data, verbose=2)\n",
    "print(test_acc)"
   ]
  },
  {
   "cell_type": "code",
   "execution_count": 12,
   "id": "cb0b359f",
   "metadata": {},
   "outputs": [
    {
     "name": "stdout",
     "output_type": "stream",
     "text": [
      "project2_simple_network.h5 Model Saved!\n"
     ]
    }
   ],
   "source": [
    "model.save('project2_LSTM_network.h5')\n",
    "print('project2_simple_network.h5 Model Saved!')"
   ]
  },
  {
   "cell_type": "code",
   "execution_count": null,
   "id": "257d603e",
   "metadata": {},
   "outputs": [
    {
     "name": "stdout",
     "output_type": "stream",
     "text": [
      "[0.3601887822151184, 0.39577165246009827, 0.41632476449012756, 0.4244177043437958, 0.44257041811943054]\n"
     ]
    }
   ],
   "source": [
    "print(history.history['accuracy'])\n",
    "\n",
    "fig, axs = plt.subplots(2, 1, figsize=(15,15))  \n",
    "axs[0].plot(history.history['loss']) \n",
    "axs[0].plot(history.history['val_loss']) \n",
    "axs[0].title.set_text('Training Loss vs Validation Loss') \n",
    "axs[0].legend(['Train', 'Val'])  \n",
    "\n",
    "axs[1].plot(history.history['accuracy']) \n",
    "axs[1].plot(history.history['val_accuracy']) \n",
    "axs[1].title.set_text('Training Accuracy vs Validation Accuracy') \n",
    "axs[1].legend(['Train', 'Val'])\n",
    "plt.savefig('project2_simple_network.png')"
   ]
  },
  {
   "cell_type": "code",
   "execution_count": null,
   "id": "6523bf49",
   "metadata": {},
   "outputs": [],
   "source": []
  }
 ],
 "metadata": {
  "kernelspec": {
   "display_name": "Python 3",
   "language": "python",
   "name": "python3"
  },
  "language_info": {
   "codemirror_mode": {
    "name": "ipython",
    "version": 3
   },
   "file_extension": ".py",
   "mimetype": "text/x-python",
   "name": "python",
   "nbconvert_exporter": "python",
   "pygments_lexer": "ipython3",
   "version": "3.7.11"
  }
 },
 "nbformat": 4,
 "nbformat_minor": 5
}
